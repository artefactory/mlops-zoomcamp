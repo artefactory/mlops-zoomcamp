{
 "cells": [
  {
   "cell_type": "code",
   "execution_count": 1,
   "metadata": {},
   "outputs": [],
   "source": [
    "import pandas as pd\n",
    "import seaborn as sns\n",
    "import matplotlib.pyplot as plt\n",
    "from sklearn.feature_extraction import DictVectorizer\n",
    "from sklearn.preprocessing import OneHotEncoder\n",
    "from sklearn.linear_model import LinearRegression\n",
    "from sklearn.metrics import mean_squared_error"
   ]
  },
  {
   "cell_type": "code",
   "execution_count": 2,
   "metadata": {},
   "outputs": [],
   "source": [
    "def prepare_data(df):\n",
    "    cols = ['PUlocationID', 'DOlocationID', 'trip_duration']\n",
    "    \n",
    "\n",
    "    df['trip_duration'] = df['dropOff_datetime'] - df['pickup_datetime'] \n",
    "    df = df[cols]\n",
    "    df['trip_duration'] = df['trip_duration'].dt.total_seconds() / 60\n",
    "    df = df[(df.trip_duration > 1) & (df.trip_duration < 60)]\n",
    "\n",
    "    df = df.fillna(-1)\n",
    "\n",
    "    df[['PUlocationID', 'DOlocationID']] = df[['PUlocationID', 'DOlocationID']].astype(str)\n",
    "\n",
    "    return df\n",
    "    \n",
    "    "
   ]
  },
  {
   "cell_type": "code",
   "execution_count": 3,
   "metadata": {},
   "outputs": [],
   "source": [
    "dataset_january = pd.read_parquet('.data/.fhv_tripdata_2021-01.parquet')\n",
    "dataset_february = pd.read_parquet('.data/.fhv_tripdata_2021-02.parquet')"
   ]
  },
  {
   "cell_type": "markdown",
   "metadata": {},
   "source": [
    "Q1. Read the data for January. How many records are there? -> 1154112"
   ]
  },
  {
   "cell_type": "code",
   "execution_count": 4,
   "metadata": {},
   "outputs": [
    {
     "name": "stdout",
     "output_type": "stream",
     "text": [
      "(1154112, 7)\n"
     ]
    }
   ],
   "source": [
    "print(dataset_january.shape)"
   ]
  },
  {
   "cell_type": "markdown",
   "metadata": {},
   "source": [
    "Q2. What's the average trip duration in January? -> 19 min 10 s "
   ]
  },
  {
   "cell_type": "code",
   "execution_count": 5,
   "metadata": {},
   "outputs": [
    {
     "name": "stdout",
     "output_type": "stream",
     "text": [
      "0 days 00:19:10.033445627\n"
     ]
    }
   ],
   "source": [
    "dataset_january['trip_duration'] = dataset_january['dropOff_datetime'] - dataset_january['pickup_datetime'] \n",
    "print(dataset_january.trip_duration.mean())"
   ]
  },
  {
   "cell_type": "markdown",
   "metadata": {},
   "source": [
    "Q3. The features we'll user for our model are the pickup and dropoff location IDs.\n",
    "\n",
    "But they have a lot of missing values there. Let's replace them with \"-1\"\n",
    "\n",
    "What's the factions of missing values for the pickup location ID? (Or the fraction of \"-1\"s after you filled the NAs)"
   ]
  },
  {
   "cell_type": "code",
   "execution_count": 6,
   "metadata": {},
   "outputs": [
    {
     "name": "stdout",
     "output_type": "stream",
     "text": [
      "dispatching_base_num      0.000000\n",
      "pickup_datetime           0.000000\n",
      "dropOff_datetime          0.000000\n",
      "PUlocationID              0.830307\n",
      "DOlocationID              0.140558\n",
      "SR_Flag                   1.000000\n",
      "Affiliated_base_number    0.000767\n",
      "dtype: float64\n"
     ]
    }
   ],
   "source": [
    "df = pd.read_parquet('.data/.fhv_tripdata_2021-01.parquet')\n",
    "print(df.isna().sum() / len(df))"
   ]
  },
  {
   "cell_type": "markdown",
   "metadata": {},
   "source": [
    "Q4. Let's apply one-hot encoding to the pickup and dropoff location IDs. We'll use only these two features for our model :\n",
    "\n",
    "- Turn the dataframe into a list of dictionaries\n",
    "- Fit a dictionary vectorizer\n",
    "- Get a feature matrix from it\n",
    "\n",
    " What's the dimensionality of this matrix? (The number of columns)"
   ]
  },
  {
   "cell_type": "code",
   "execution_count": 11,
   "metadata": {},
   "outputs": [
    {
     "name": "stderr",
     "output_type": "stream",
     "text": [
      "/var/folders/6x/zpd1z6k5121f1syrv00fr44r0000gp/T/ipykernel_16967/1282977327.py:7: SettingWithCopyWarning: \n",
      "A value is trying to be set on a copy of a slice from a DataFrame.\n",
      "Try using .loc[row_indexer,col_indexer] = value instead\n",
      "\n",
      "See the caveats in the documentation: https://pandas.pydata.org/pandas-docs/stable/user_guide/indexing.html#returning-a-view-versus-a-copy\n",
      "  df['trip_duration'] = df['trip_duration'].dt.total_seconds() / 60\n"
     ]
    }
   ],
   "source": [
    "df_jan = pd.read_parquet('.data/.fhv_tripdata_2021-01.parquet')\n",
    "df_jan = prepare_data(df_jan)"
   ]
  },
  {
   "cell_type": "code",
   "execution_count": 15,
   "metadata": {},
   "outputs": [],
   "source": [
    "y_train = df_jan['trip_duration']\n",
    "X_train = df_jan.drop(columns=['trip_duration'])\n",
    "\n",
    "X_train = X_train.to_dict('records')\n",
    "vectorizer = DictVectorizer()\n",
    "X_train = vectorizer.fit_transform(X_train)"
   ]
  },
  {
   "cell_type": "code",
   "execution_count": 14,
   "metadata": {},
   "outputs": [],
   "source": []
  },
  {
   "cell_type": "markdown",
   "metadata": {},
   "source": [
    "Q5. Now let's use the feature matrix from the previous step to train a model :\n",
    "\n",
    "- Train a plain linear regression model with default parameters\n",
    "- Calculate the RMSE of the model on the training data\n",
    "\n",
    "What's the RMSE on train?\n",
    "\n"
   ]
  },
  {
   "cell_type": "code",
   "execution_count": 16,
   "metadata": {},
   "outputs": [
    {
     "name": "stdout",
     "output_type": "stream",
     "text": [
      "10.39316304284463\n"
     ]
    }
   ],
   "source": [
    "# Train and evaluate a linear regression model\n",
    "regressor = LinearRegression()\n",
    "regressor.fit(X_train, y_train)\n",
    "y_pred = regressor.predict(X_train)\n",
    "print(mean_squared_error(y_train, y_pred, squared = False))\n",
    "\n",
    "\n"
   ]
  },
  {
   "cell_type": "markdown",
   "metadata": {},
   "source": [
    "Q6. Now let's apply this model to the validation dataset.\n",
    "\n",
    "What's the RMSE on validation?\n",
    "\n"
   ]
  },
  {
   "cell_type": "code",
   "execution_count": 17,
   "metadata": {},
   "outputs": [
    {
     "name": "stderr",
     "output_type": "stream",
     "text": [
      "/var/folders/6x/zpd1z6k5121f1syrv00fr44r0000gp/T/ipykernel_16967/1282977327.py:7: SettingWithCopyWarning: \n",
      "A value is trying to be set on a copy of a slice from a DataFrame.\n",
      "Try using .loc[row_indexer,col_indexer] = value instead\n",
      "\n",
      "See the caveats in the documentation: https://pandas.pydata.org/pandas-docs/stable/user_guide/indexing.html#returning-a-view-versus-a-copy\n",
      "  df['trip_duration'] = df['trip_duration'].dt.total_seconds() / 60\n"
     ]
    }
   ],
   "source": [
    "df_feb = pd.read_parquet('.data/.fhv_tripdata_2021-02.parquet')\n",
    "df_feb = prepare_data(df_feb)\n",
    "\n",
    "y_val = df_feb.trip_duration\n",
    "X_val = df_feb.drop(columns=['trip_duration'])\n",
    "\n",
    "X_val = X_val.to_dict('records')\n",
    "\n",
    "X_val = vectorizer.transform(X_val)\n"
   ]
  },
  {
   "cell_type": "code",
   "execution_count": 18,
   "metadata": {},
   "outputs": [
    {
     "name": "stdout",
     "output_type": "stream",
     "text": [
      "10.902406154063145\n"
     ]
    }
   ],
   "source": [
    "y_pred_val = regressor.predict(X_val)\n",
    "print(mean_squared_error(y_val, y_pred_val, squared = False))"
   ]
  }
 ],
 "metadata": {
  "interpreter": {
   "hash": "c6b992247a02372e661319281dc4c7fa14a0f2a41e9a4da052a0f51c9f6f100b"
  },
  "kernelspec": {
   "display_name": "Python 3.8.13 ('zoomcamp')",
   "language": "python",
   "name": "python3"
  },
  "language_info": {
   "codemirror_mode": {
    "name": "ipython",
    "version": 3
   },
   "file_extension": ".py",
   "mimetype": "text/x-python",
   "name": "python",
   "nbconvert_exporter": "python",
   "pygments_lexer": "ipython3",
   "version": "3.8.13"
  },
  "orig_nbformat": 4
 },
 "nbformat": 4,
 "nbformat_minor": 2
}
